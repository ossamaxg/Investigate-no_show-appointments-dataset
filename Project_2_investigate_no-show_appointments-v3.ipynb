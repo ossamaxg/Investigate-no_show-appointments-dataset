{
 "cells": [
  {
   "cell_type": "markdown",
   "id": "04caccc9",
   "metadata": {},
   "source": [
    "# Introduction :"
   ]
  },
  {
   "cell_type": "markdown",
   "id": "153cee09",
   "metadata": {},
   "source": [
    "__This dataset contains information about 100 thouthands patients in Brazil, some information is described in columns names as follows:__\n",
    "\n",
    "__- ScheduledDay:__ the day in which a patient sets up his/her appointment.\n",
    "\n",
    "__- Neighborhood:__ location of the hospital.\n",
    "\n",
    "__- Scholarship:__     whether or not the patient is enrolled in Brasilian welfare program Bolsa Família.\n",
    "\n",
    "__- Hypertension:__ whether or not a patient has hypertension, and the same for Diabetes and Alcoholism.\n",
    "\n",
    "__- Handicap:__     degree of handicap (5 degrees: 0-5).\n",
    "\n",
    "__- SMS_received:__ if or not a patient received SMS.\n",
    "\n",
    "__- No-show:__      if or not a patient showed up to his appointment (note: ‘No’ if a patient showed up to his/her appointment, and ‘Yes’ if not.\n"
   ]
  },
  {
   "cell_type": "markdown",
   "id": "2dbc63a7",
   "metadata": {},
   "source": [
    "# Questions :"
   ]
  },
  {
   "cell_type": "markdown",
   "id": "b7dbdb9e",
   "metadata": {},
   "source": [
    "__1- What are the proportions of Males and Females in Patients and what is the age distribution?__"
   ]
  },
  {
   "cell_type": "markdown",
   "id": "723c7ff4",
   "metadata": {},
   "source": [
    "__2- What is the effect of alcohol on diabetes and hypertention?__"
   ]
  },
  {
   "cell_type": "markdown",
   "id": "0f4e624c",
   "metadata": {},
   "source": [
    "__3- What is the relation between Age and each of diabetes and hypertension?__"
   ]
  },
  {
   "cell_type": "markdown",
   "id": "351ecc4a",
   "metadata": {},
   "source": [
    "__4- Are there young alcoholics (under 18)?__"
   ]
  },
  {
   "cell_type": "markdown",
   "id": "2d8e173a",
   "metadata": {},
   "source": [
    "__5- What is the percentage of patients who showed up to their appointments?__"
   ]
  },
  {
   "cell_type": "markdown",
   "id": "cb97e105",
   "metadata": {},
   "source": [
    "__6- Did patients who showed up for their appointments receive SMS?__"
   ]
  },
  {
   "cell_type": "code",
   "execution_count": 1,
   "id": "bc112aca",
   "metadata": {},
   "outputs": [],
   "source": [
    "import numpy as np\n",
    "import pandas as pd\n",
    "import matplotlib.pyplot as plt\n",
    "# % matplotlib inline\n",
    "import seaborn as sns\n",
    "sns.set_style('darkgrid')\n",
    "\n",
    "noshow_df = pd.read_csv('noshowappointments-kagglev2-may-2016.csv')"
   ]
  },
  {
   "cell_type": "markdown",
   "id": "dc48c0c8",
   "metadata": {},
   "source": [
    " ____________________________________________________________________________________________________________________________"
   ]
  },
  {
   "cell_type": "markdown",
   "id": "d5bb0d3d",
   "metadata": {},
   "source": [
    "# Assessing dataset:"
   ]
  },
  {
   "cell_type": "code",
   "execution_count": 2,
   "id": "a3fd04ef",
   "metadata": {},
   "outputs": [
    {
     "name": "stdout",
     "output_type": "stream",
     "text": [
      "(110527, 14)\n"
     ]
    },
    {
     "data": {
      "text/html": [
       "<div>\n",
       "<style scoped>\n",
       "    .dataframe tbody tr th:only-of-type {\n",
       "        vertical-align: middle;\n",
       "    }\n",
       "\n",
       "    .dataframe tbody tr th {\n",
       "        vertical-align: top;\n",
       "    }\n",
       "\n",
       "    .dataframe thead th {\n",
       "        text-align: right;\n",
       "    }\n",
       "</style>\n",
       "<table border=\"1\" class=\"dataframe\">\n",
       "  <thead>\n",
       "    <tr style=\"text-align: right;\">\n",
       "      <th></th>\n",
       "      <th>PatientId</th>\n",
       "      <th>AppointmentID</th>\n",
       "      <th>Gender</th>\n",
       "      <th>ScheduledDay</th>\n",
       "      <th>AppointmentDay</th>\n",
       "      <th>Age</th>\n",
       "      <th>Neighbourhood</th>\n",
       "      <th>Scholarship</th>\n",
       "      <th>Hipertension</th>\n",
       "      <th>Diabetes</th>\n",
       "      <th>Alcoholism</th>\n",
       "      <th>Handcap</th>\n",
       "      <th>SMS_received</th>\n",
       "      <th>No-show</th>\n",
       "    </tr>\n",
       "  </thead>\n",
       "  <tbody>\n",
       "    <tr>\n",
       "      <th>0</th>\n",
       "      <td>2.987250e+13</td>\n",
       "      <td>5642903</td>\n",
       "      <td>F</td>\n",
       "      <td>2016-04-29T18:38:08Z</td>\n",
       "      <td>2016-04-29T00:00:00Z</td>\n",
       "      <td>62</td>\n",
       "      <td>JARDIM DA PENHA</td>\n",
       "      <td>0</td>\n",
       "      <td>1</td>\n",
       "      <td>0</td>\n",
       "      <td>0</td>\n",
       "      <td>0</td>\n",
       "      <td>0</td>\n",
       "      <td>No</td>\n",
       "    </tr>\n",
       "    <tr>\n",
       "      <th>1</th>\n",
       "      <td>5.589978e+14</td>\n",
       "      <td>5642503</td>\n",
       "      <td>M</td>\n",
       "      <td>2016-04-29T16:08:27Z</td>\n",
       "      <td>2016-04-29T00:00:00Z</td>\n",
       "      <td>56</td>\n",
       "      <td>JARDIM DA PENHA</td>\n",
       "      <td>0</td>\n",
       "      <td>0</td>\n",
       "      <td>0</td>\n",
       "      <td>0</td>\n",
       "      <td>0</td>\n",
       "      <td>0</td>\n",
       "      <td>No</td>\n",
       "    </tr>\n",
       "    <tr>\n",
       "      <th>2</th>\n",
       "      <td>4.262962e+12</td>\n",
       "      <td>5642549</td>\n",
       "      <td>F</td>\n",
       "      <td>2016-04-29T16:19:04Z</td>\n",
       "      <td>2016-04-29T00:00:00Z</td>\n",
       "      <td>62</td>\n",
       "      <td>MATA DA PRAIA</td>\n",
       "      <td>0</td>\n",
       "      <td>0</td>\n",
       "      <td>0</td>\n",
       "      <td>0</td>\n",
       "      <td>0</td>\n",
       "      <td>0</td>\n",
       "      <td>No</td>\n",
       "    </tr>\n",
       "    <tr>\n",
       "      <th>3</th>\n",
       "      <td>8.679512e+11</td>\n",
       "      <td>5642828</td>\n",
       "      <td>F</td>\n",
       "      <td>2016-04-29T17:29:31Z</td>\n",
       "      <td>2016-04-29T00:00:00Z</td>\n",
       "      <td>8</td>\n",
       "      <td>PONTAL DE CAMBURI</td>\n",
       "      <td>0</td>\n",
       "      <td>0</td>\n",
       "      <td>0</td>\n",
       "      <td>0</td>\n",
       "      <td>0</td>\n",
       "      <td>0</td>\n",
       "      <td>No</td>\n",
       "    </tr>\n",
       "    <tr>\n",
       "      <th>4</th>\n",
       "      <td>8.841186e+12</td>\n",
       "      <td>5642494</td>\n",
       "      <td>F</td>\n",
       "      <td>2016-04-29T16:07:23Z</td>\n",
       "      <td>2016-04-29T00:00:00Z</td>\n",
       "      <td>56</td>\n",
       "      <td>JARDIM DA PENHA</td>\n",
       "      <td>0</td>\n",
       "      <td>1</td>\n",
       "      <td>1</td>\n",
       "      <td>0</td>\n",
       "      <td>0</td>\n",
       "      <td>0</td>\n",
       "      <td>No</td>\n",
       "    </tr>\n",
       "  </tbody>\n",
       "</table>\n",
       "</div>"
      ],
      "text/plain": [
       "      PatientId  AppointmentID Gender          ScheduledDay  \\\n",
       "0  2.987250e+13        5642903      F  2016-04-29T18:38:08Z   \n",
       "1  5.589978e+14        5642503      M  2016-04-29T16:08:27Z   \n",
       "2  4.262962e+12        5642549      F  2016-04-29T16:19:04Z   \n",
       "3  8.679512e+11        5642828      F  2016-04-29T17:29:31Z   \n",
       "4  8.841186e+12        5642494      F  2016-04-29T16:07:23Z   \n",
       "\n",
       "         AppointmentDay  Age      Neighbourhood  Scholarship  Hipertension  \\\n",
       "0  2016-04-29T00:00:00Z   62    JARDIM DA PENHA            0             1   \n",
       "1  2016-04-29T00:00:00Z   56    JARDIM DA PENHA            0             0   \n",
       "2  2016-04-29T00:00:00Z   62      MATA DA PRAIA            0             0   \n",
       "3  2016-04-29T00:00:00Z    8  PONTAL DE CAMBURI            0             0   \n",
       "4  2016-04-29T00:00:00Z   56    JARDIM DA PENHA            0             1   \n",
       "\n",
       "   Diabetes  Alcoholism  Handcap  SMS_received No-show  \n",
       "0         0           0        0             0      No  \n",
       "1         0           0        0             0      No  \n",
       "2         0           0        0             0      No  \n",
       "3         0           0        0             0      No  \n",
       "4         1           0        0             0      No  "
      ]
     },
     "execution_count": 2,
     "metadata": {},
     "output_type": "execute_result"
    }
   ],
   "source": [
    "print(noshow_df.shape)\n",
    "noshow_df.head()"
   ]
  },
  {
   "cell_type": "code",
   "execution_count": 3,
   "id": "4a55a120",
   "metadata": {},
   "outputs": [
    {
     "data": {
      "text/plain": [
       "PatientId         0\n",
       "AppointmentID     0\n",
       "Gender            0\n",
       "ScheduledDay      0\n",
       "AppointmentDay    0\n",
       "Age               0\n",
       "Neighbourhood     0\n",
       "Scholarship       0\n",
       "Hipertension      0\n",
       "Diabetes          0\n",
       "Alcoholism        0\n",
       "Handcap           0\n",
       "SMS_received      0\n",
       "No-show           0\n",
       "dtype: int64"
      ]
     },
     "execution_count": 3,
     "metadata": {},
     "output_type": "execute_result"
    }
   ],
   "source": [
    "noshow_df.isnull().sum()"
   ]
  },
  {
   "cell_type": "code",
   "execution_count": 26,
   "id": "1fab2cd5",
   "metadata": {},
   "outputs": [
    {
     "data": {
      "text/plain": [
       "0"
      ]
     },
     "execution_count": 26,
     "metadata": {},
     "output_type": "execute_result"
    }
   ],
   "source": [
    "noshow_df.duplicated().sum()"
   ]
  },
  {
   "cell_type": "markdown",
   "id": "673e7b2e",
   "metadata": {},
   "source": [
    "__- There are no nulls or duplicates.__"
   ]
  },
  {
   "cell_type": "code",
   "execution_count": 27,
   "id": "5fbc4e4a",
   "metadata": {},
   "outputs": [
    {
     "data": {
      "text/plain": [
       "PatientId         float64\n",
       "AppointmentID       int64\n",
       "Gender             object\n",
       "ScheduledDay       object\n",
       "AppointmentDay     object\n",
       "Age                 int64\n",
       "Neighbourhood      object\n",
       "Scholarship         int64\n",
       "Hipertension        int64\n",
       "Diabetes            int64\n",
       "Alcoholism          int64\n",
       "Handcap             int64\n",
       "SMS_received        int64\n",
       "No-show            object\n",
       "dtype: object"
      ]
     },
     "execution_count": 27,
     "metadata": {},
     "output_type": "execute_result"
    }
   ],
   "source": [
    "noshow_df.dtypes"
   ]
  },
  {
   "cell_type": "markdown",
   "id": "e97dbdeb",
   "metadata": {},
   "source": [
    "__- Data_types of 'ScheduledDay' and 'AppointmentDay' need to be converted from object (string) to datetime.__"
   ]
  },
  {
   "cell_type": "code",
   "execution_count": 28,
   "id": "69b65afb",
   "metadata": {},
   "outputs": [
    {
     "data": {
      "text/plain": [
       "array(['F', 'M'], dtype=object)"
      ]
     },
     "execution_count": 28,
     "metadata": {},
     "output_type": "execute_result"
    }
   ],
   "source": [
    "noshow_df.Gender.unique()"
   ]
  },
  {
   "cell_type": "code",
   "execution_count": 8,
   "id": "ee7cc86e",
   "metadata": {},
   "outputs": [
    {
     "data": {
      "text/plain": [
       "array([0, 1], dtype=int64)"
      ]
     },
     "execution_count": 8,
     "metadata": {},
     "output_type": "execute_result"
    }
   ],
   "source": [
    "noshow_df.Scholarship.unique()"
   ]
  },
  {
   "cell_type": "code",
   "execution_count": 9,
   "id": "b11d4ca5",
   "metadata": {},
   "outputs": [
    {
     "data": {
      "text/plain": [
       "array([1, 0], dtype=int64)"
      ]
     },
     "execution_count": 9,
     "metadata": {},
     "output_type": "execute_result"
    }
   ],
   "source": [
    "noshow_df.Hipertension.unique()"
   ]
  },
  {
   "cell_type": "code",
   "execution_count": 10,
   "id": "b0583c23",
   "metadata": {},
   "outputs": [
    {
     "data": {
      "text/plain": [
       "array([0, 1], dtype=int64)"
      ]
     },
     "execution_count": 10,
     "metadata": {},
     "output_type": "execute_result"
    }
   ],
   "source": [
    "noshow_df.Diabetes.unique()"
   ]
  },
  {
   "cell_type": "code",
   "execution_count": 11,
   "id": "745b2643",
   "metadata": {},
   "outputs": [
    {
     "data": {
      "text/plain": [
       "array([0, 1], dtype=int64)"
      ]
     },
     "execution_count": 11,
     "metadata": {},
     "output_type": "execute_result"
    }
   ],
   "source": [
    "noshow_df.Alcoholism.unique()"
   ]
  },
  {
   "cell_type": "code",
   "execution_count": 12,
   "id": "873a7056",
   "metadata": {},
   "outputs": [
    {
     "data": {
      "text/plain": [
       "array([0, 1, 2, 3, 4], dtype=int64)"
      ]
     },
     "execution_count": 12,
     "metadata": {},
     "output_type": "execute_result"
    }
   ],
   "source": [
    "noshow_df.Handcap.unique()"
   ]
  },
  {
   "cell_type": "code",
   "execution_count": 16,
   "id": "0375fabc",
   "metadata": {},
   "outputs": [
    {
     "data": {
      "text/plain": [
       "array([0, 1], dtype=int64)"
      ]
     },
     "execution_count": 16,
     "metadata": {},
     "output_type": "execute_result"
    }
   ],
   "source": [
    "noshow_df.SMS_received.unique()"
   ]
  },
  {
   "cell_type": "code",
   "execution_count": 17,
   "id": "6fe4d1e8",
   "metadata": {},
   "outputs": [
    {
     "data": {
      "text/plain": [
       "array(['No', 'Yes'], dtype=object)"
      ]
     },
     "execution_count": 17,
     "metadata": {},
     "output_type": "execute_result"
    }
   ],
   "source": [
    "noshow_df['No-show'].unique()"
   ]
  },
  {
   "cell_type": "markdown",
   "id": "4b764f91",
   "metadata": {},
   "source": [
    " ____________________________________________________________________________________________________________________________"
   ]
  },
  {
   "cell_type": "markdown",
   "id": "346098c0",
   "metadata": {},
   "source": [
    "# Cleaning dataset:"
   ]
  },
  {
   "cell_type": "code",
   "execution_count": 29,
   "id": "c8468e93",
   "metadata": {},
   "outputs": [
    {
     "data": {
      "text/html": [
       "<div>\n",
       "<style scoped>\n",
       "    .dataframe tbody tr th:only-of-type {\n",
       "        vertical-align: middle;\n",
       "    }\n",
       "\n",
       "    .dataframe tbody tr th {\n",
       "        vertical-align: top;\n",
       "    }\n",
       "\n",
       "    .dataframe thead th {\n",
       "        text-align: right;\n",
       "    }\n",
       "</style>\n",
       "<table border=\"1\" class=\"dataframe\">\n",
       "  <thead>\n",
       "    <tr style=\"text-align: right;\">\n",
       "      <th></th>\n",
       "      <th>patientid</th>\n",
       "      <th>appointmentid</th>\n",
       "      <th>gender</th>\n",
       "      <th>scheduledday</th>\n",
       "      <th>appointmentday</th>\n",
       "      <th>age</th>\n",
       "      <th>neighbourhood</th>\n",
       "      <th>scholarship</th>\n",
       "      <th>hipertension</th>\n",
       "      <th>diabetes</th>\n",
       "      <th>alcoholism</th>\n",
       "      <th>handcap</th>\n",
       "      <th>sms_received</th>\n",
       "      <th>no_show</th>\n",
       "    </tr>\n",
       "  </thead>\n",
       "  <tbody>\n",
       "  </tbody>\n",
       "</table>\n",
       "</div>"
      ],
      "text/plain": [
       "Empty DataFrame\n",
       "Columns: [patientid, appointmentid, gender, scheduledday, appointmentday, age, neighbourhood, scholarship, hipertension, diabetes, alcoholism, handcap, sms_received, no_show]\n",
       "Index: []"
      ]
     },
     "execution_count": 29,
     "metadata": {},
     "output_type": "execute_result"
    }
   ],
   "source": [
    "# remove whitespaces, replace hyphens with underscores and lowercase labels\n",
    "noshow_df.rename(columns=lambda x: x.strip().lower().replace(\"-\", \"_\"), inplace=True)\n",
    "\n",
    "# confirm changes\n",
    "noshow_df.head(0)"
   ]
  },
  {
   "cell_type": "markdown",
   "id": "de65e14a",
   "metadata": {},
   "source": [
    " ____________________________________________________________________________________________________________________________"
   ]
  },
  {
   "cell_type": "code",
   "execution_count": 30,
   "id": "518bd7eb",
   "metadata": {},
   "outputs": [],
   "source": [
    "# drop ages <= 0\n",
    "ages_0_or_less_df = noshow_df.query('age<=0')\n",
    "noshow_df.drop(ages_0_or_less_df.index, inplace=True)"
   ]
  },
  {
   "cell_type": "code",
   "execution_count": 31,
   "id": "e29b76e5",
   "metadata": {},
   "outputs": [
    {
     "data": {
      "text/plain": [
       "0"
      ]
     },
     "execution_count": 31,
     "metadata": {},
     "output_type": "execute_result"
    }
   ],
   "source": [
    "# check for dropping\n",
    "noshow_df.query('age<=0').age.count()"
   ]
  },
  {
   "cell_type": "code",
   "execution_count": 32,
   "id": "660034ec",
   "metadata": {},
   "outputs": [],
   "source": [
    "# remove column:'neighbourhood'\n",
    "noshow_df.drop(['neighbourhood'], axis=1, inplace=True)"
   ]
  },
  {
   "cell_type": "code",
   "execution_count": 33,
   "id": "7cc0be81",
   "metadata": {},
   "outputs": [
    {
     "data": {
      "text/html": [
       "<div>\n",
       "<style scoped>\n",
       "    .dataframe tbody tr th:only-of-type {\n",
       "        vertical-align: middle;\n",
       "    }\n",
       "\n",
       "    .dataframe tbody tr th {\n",
       "        vertical-align: top;\n",
       "    }\n",
       "\n",
       "    .dataframe thead th {\n",
       "        text-align: right;\n",
       "    }\n",
       "</style>\n",
       "<table border=\"1\" class=\"dataframe\">\n",
       "  <thead>\n",
       "    <tr style=\"text-align: right;\">\n",
       "      <th></th>\n",
       "      <th>patientid</th>\n",
       "      <th>appointmentid</th>\n",
       "      <th>gender</th>\n",
       "      <th>scheduledday</th>\n",
       "      <th>appointmentday</th>\n",
       "      <th>age</th>\n",
       "      <th>scholarship</th>\n",
       "      <th>hipertension</th>\n",
       "      <th>diabetes</th>\n",
       "      <th>alcoholism</th>\n",
       "      <th>handcap</th>\n",
       "      <th>sms_received</th>\n",
       "      <th>no_show</th>\n",
       "    </tr>\n",
       "  </thead>\n",
       "  <tbody>\n",
       "  </tbody>\n",
       "</table>\n",
       "</div>"
      ],
      "text/plain": [
       "Empty DataFrame\n",
       "Columns: [patientid, appointmentid, gender, scheduledday, appointmentday, age, scholarship, hipertension, diabetes, alcoholism, handcap, sms_received, no_show]\n",
       "Index: []"
      ]
     },
     "execution_count": 33,
     "metadata": {},
     "output_type": "execute_result"
    }
   ],
   "source": [
    "# confirm changes\n",
    "noshow_df.head(0)"
   ]
  },
  {
   "cell_type": "markdown",
   "id": "7c85722b",
   "metadata": {},
   "source": [
    " ____________________________________________________________________________________________________________________________"
   ]
  },
  {
   "cell_type": "code",
   "execution_count": 34,
   "id": "d14ef28a",
   "metadata": {},
   "outputs": [],
   "source": [
    "# convert data_types of columns: 'scheduledDay' and 'appointmentDay'\n",
    "noshow_df['scheduledday'] = pd.to_datetime(noshow_df['scheduledday'])\n",
    "noshow_df['appointmentday'] = pd.to_datetime(noshow_df['appointmentday'])\n"
   ]
  },
  {
   "cell_type": "code",
   "execution_count": 35,
   "id": "d428a1ab",
   "metadata": {},
   "outputs": [
    {
     "name": "stdout",
     "output_type": "stream",
     "text": [
      "datetime64[ns, UTC]\n"
     ]
    },
    {
     "data": {
      "text/plain": [
       "datetime64[ns, UTC]"
      ]
     },
     "execution_count": 35,
     "metadata": {},
     "output_type": "execute_result"
    }
   ],
   "source": [
    "# confirm changes\n",
    "print(noshow_df.scheduledday.dtypes)\n",
    "noshow_df.appointmentday.dtypes"
   ]
  },
  {
   "cell_type": "markdown",
   "id": "5e80ea3f",
   "metadata": {},
   "source": [
    " ____________________________________________________________________________________________________________________________"
   ]
  },
  {
   "cell_type": "markdown",
   "id": "4f4b3535",
   "metadata": {},
   "source": [
    "# Exploring with visuals:"
   ]
  },
  {
   "cell_type": "markdown",
   "id": "2e47feaf",
   "metadata": {},
   "source": [
    "# Q1: "
   ]
  },
  {
   "cell_type": "markdown",
   "id": "02126a40",
   "metadata": {},
   "source": [
    "__1- What are the proportions of Males and Females in Patients and what is the age distribution?__"
   ]
  },
  {
   "cell_type": "code",
   "execution_count": 37,
   "id": "6b68353c",
   "metadata": {},
   "outputs": [
    {
     "data": {
      "image/png": "[encoded data removed]",
      "text/plain": [
       "<Figure size 360x360 with 1 Axes>"
      ]
     },
     "metadata": {},
     "output_type": "display_data"
    }
   ],
   "source": [
    "# counts of males and females in patients\n",
    "sns.catplot(data=noshow_df, x=\"gender\", kind=\"count\")\n",
    "sns.set(font_scale=1.3)\n",
    "plt.xticks([1, 0], ['Male', 'Female'])\n",
    "plt.ylabel('Count of Patients');"
   ]
  },
  {
   "cell_type": "code",
   "execution_count": 63,
   "id": "ce71e6f2",
   "metadata": {},
   "outputs": [
    {
     "data": {
      "image/png": "[encoded data removed]",
      "text/plain": [
       "<Figure size 504x504 with 1 Axes>"
      ]
     },
     "metadata": {},
     "output_type": "display_data"
    }
   ],
   "source": [
    "# percents of males and females in patients\n",
    "noshow_df.gender.value_counts().plot(kind='pie', autopct='%1.0f%%', textprops={\"fontsize\":15}, figsize= (7,7),  labels=['Females', 'Males'])\n",
    "plt.title(\"Percents of males and females in patients\", fontsize = 21);"
   ]
  },
  {
   "cell_type": "markdown",
   "id": "fed3c2f0",
   "metadata": {},
   "source": [
    "__- percent of females is about twice the percent of male patients (66% vs 34%).__"
   ]
  },
  {
   "cell_type": "markdown",
   "id": "539ecb42",
   "metadata": {},
   "source": [
    " ____________________________________________________________________________________________________________________________"
   ]
  },
  {
   "cell_type": "markdown",
   "id": "664b1675",
   "metadata": {},
   "source": [
    "__- Making a function (percent_function).__"
   ]
  },
  {
   "cell_type": "code",
   "execution_count": 58,
   "id": "3011e05e",
   "metadata": {},
   "outputs": [
    {
     "data": {
      "text/plain": [
       "106987"
      ]
     },
     "execution_count": 58,
     "metadata": {},
     "output_type": "execute_result"
    }
   ],
   "source": [
    "# gender count\n",
    "total_patients = noshow_df.gender.count()\n",
    "total_patients"
   ]
  },
  {
   "cell_type": "code",
   "execution_count": 59,
   "id": "9a0a08a0",
   "metadata": {},
   "outputs": [
    {
     "data": {
      "text/plain": [
       "36869"
      ]
     },
     "execution_count": 59,
     "metadata": {},
     "output_type": "execute_result"
    }
   ],
   "source": [
    "# count of males\n",
    "count_of_M = noshow_df.query('gender==\"M\"')['gender'].count()\n",
    "count_of_M"
   ]
  },
  {
   "cell_type": "code",
   "execution_count": 60,
   "id": "2fdbec6b",
   "metadata": {},
   "outputs": [
    {
     "data": {
      "text/plain": [
       "70118"
      ]
     },
     "execution_count": 60,
     "metadata": {},
     "output_type": "execute_result"
    }
   ],
   "source": [
    "# count of females\n",
    "count_of_F = noshow_df.query('gender==\"F\"').gender.count()\n",
    "count_of_F"
   ]
  },
  {
   "cell_type": "code",
   "execution_count": 61,
   "id": "0560753b",
   "metadata": {},
   "outputs": [],
   "source": [
    "# function for extracting percents\n",
    "def percent_(df, count_, total_):\n",
    "    df = pd.read_csv('noshowappointments-kagglev2-may-2016.csv')\n",
    "    percent_ = count_ / total_ * 100\n",
    "    return percent_\n",
    "    "
   ]
  },
  {
   "cell_type": "code",
   "execution_count": 62,
   "id": "2122e067",
   "metadata": {},
   "outputs": [
    {
     "name": "stdout",
     "output_type": "stream",
     "text": [
      "34.461196220101506\n"
     ]
    },
    {
     "data": {
      "text/plain": [
       "65.53880377989849"
      ]
     },
     "execution_count": 62,
     "metadata": {},
     "output_type": "execute_result"
    }
   ],
   "source": [
    "# percents of males and females in patients\n",
    "print(percent_(noshow_df, count_of_M, total_patients))\n",
    "percent_(noshow_df, count_of_F, total_patients)"
   ]
  },
  {
   "cell_type": "markdown",
   "id": "46093ad9",
   "metadata": {},
   "source": [
    " ____________________________________________________________________________________________________________________________"
   ]
  },
  {
   "cell_type": "markdown",
   "id": "eb06530d",
   "metadata": {},
   "source": [
    "# Ages of the patients:"
   ]
  },
  {
   "cell_type": "code",
   "execution_count": 80,
   "id": "bd8c2b3d",
   "metadata": {},
   "outputs": [
    {
     "data": {
      "image/png": "[encoded data removed]",
      "text/plain": [
       "<Figure size 432x288 with 1 Axes>"
      ]
     },
     "metadata": {},
     "output_type": "display_data"
    }
   ],
   "source": [
    "# box plot for column: 'age'\n",
    "noshow_df['age'].plot(kind='box')\n",
    "\n",
    "sns.set(font_scale=1.3)\n",
    "plt.title('Ages of the patients')\n",
    "plt.ylabel('years');"
   ]
  },
  {
   "cell_type": "code",
   "execution_count": 81,
   "id": "382c8d66",
   "metadata": {},
   "outputs": [
    {
     "data": {
      "image/png": "[encoded data removed]",
      "text/plain": [
       "<Figure size 432x288 with 1 Axes>"
      ]
     },
     "metadata": {},
     "output_type": "display_data"
    }
   ],
   "source": [
    "# histogram for column: 'age'\n",
    "fig, axes = plt.subplots(nrows=1, ncols=1)\n",
    "noshow_df.hist(column='age', ax=axes)\n",
    "\n",
    "# set title and axis labels\n",
    "plt.suptitle('Ages of the patients', x=0.5, y=1, ha='center', fontsize='large')\n",
    "plt.xlabel('Age (years)')\n",
    "plt.ylabel('Count of Patients');"
   ]
  },
  {
   "cell_type": "markdown",
   "id": "2aa39bb2",
   "metadata": {},
   "source": [
    "__- 'Right skewed', and the majority of patients are under 70.__"
   ]
  },
  {
   "cell_type": "markdown",
   "id": "f49d1fb1",
   "metadata": {},
   "source": [
    " ____________________________________________________________________________________________________________________________"
   ]
  },
  {
   "cell_type": "markdown",
   "id": "7a4d776e",
   "metadata": {},
   "source": [
    "# Q2:"
   ]
  },
  {
   "cell_type": "markdown",
   "id": "1feb88b3",
   "metadata": {},
   "source": [
    "__2- What is the effect of alcohol on diabetes and hypertention?__"
   ]
  },
  {
   "cell_type": "code",
   "execution_count": 65,
   "id": "cec79090",
   "metadata": {},
   "outputs": [],
   "source": [
    "# data_frame of alcoholics\n",
    "df_of_alcoholics = noshow_df.query('alcoholism==1')\n",
    "# df_of_alcoholics"
   ]
  },
  {
   "cell_type": "code",
   "execution_count": 66,
   "id": "9f9b1322",
   "metadata": {},
   "outputs": [
    {
     "data": {
      "text/plain": [
       "3360"
      ]
     },
     "execution_count": 66,
     "metadata": {},
     "output_type": "execute_result"
    }
   ],
   "source": [
    "# count of alcoholics\n",
    "count_of_alcoholics = noshow_df.query('alcoholism==1').alcoholism.count()\n",
    "count_of_alcoholics"
   ]
  },
  {
   "cell_type": "code",
   "execution_count": 67,
   "id": "80b54e74",
   "metadata": {},
   "outputs": [],
   "source": [
    "# data_frame of nonalcoholics\n",
    "df_of_nonalcoholics = noshow_df.query('alcoholism==0')\n",
    "# df_of_nonalcoholics"
   ]
  },
  {
   "cell_type": "code",
   "execution_count": 68,
   "id": "7926226b",
   "metadata": {},
   "outputs": [
    {
     "data": {
      "text/plain": [
       "103627"
      ]
     },
     "execution_count": 68,
     "metadata": {},
     "output_type": "execute_result"
    }
   ],
   "source": [
    "# count of nonalcoholics\n",
    "count_of_nonalcoholics = noshow_df.query('alcoholism==0').alcoholism.count()\n",
    "count_of_nonalcoholics"
   ]
  },
  {
   "cell_type": "code",
   "execution_count": 69,
   "id": "bcda84ff",
   "metadata": {},
   "outputs": [
    {
     "data": {
      "text/plain": [
       "332"
      ]
     },
     "execution_count": 69,
     "metadata": {},
     "output_type": "execute_result"
    }
   ],
   "source": [
    "# count of alcoholics who have diabetes\n",
    "count_of_dibetes_in_alcoholics = df_of_alcoholics.query('diabetes==1').diabetes.count()\n",
    "count_of_dibetes_in_alcoholics"
   ]
  },
  {
   "cell_type": "code",
   "execution_count": 70,
   "id": "f29bcd26",
   "metadata": {},
   "outputs": [
    {
     "data": {
      "text/plain": [
       "7611"
      ]
     },
     "execution_count": 70,
     "metadata": {},
     "output_type": "execute_result"
    }
   ],
   "source": [
    "# count of nonalcoholics who have diabetes\n",
    "count_of_dibetes_in_nonalcoholics = df_of_nonalcoholics.query('diabetes==1').diabetes.count()\n",
    "count_of_dibetes_in_nonalcoholics"
   ]
  },
  {
   "cell_type": "code",
   "execution_count": 71,
   "id": "41c21742",
   "metadata": {},
   "outputs": [
    {
     "data": {
      "text/plain": [
       "9.880952380952381"
      ]
     },
     "execution_count": 71,
     "metadata": {},
     "output_type": "execute_result"
    }
   ],
   "source": [
    "# percent of alcoholics who have diabetes\n",
    "percent_of_dibetes_in_alcoholics = percent_(df_of_alcoholics, count_of_dibetes_in_alcoholics, count_of_alcoholics)\n",
    "percent_of_dibetes_in_alcoholics"
   ]
  },
  {
   "cell_type": "code",
   "execution_count": 72,
   "id": "392e6a2f",
   "metadata": {},
   "outputs": [
    {
     "data": {
      "text/plain": [
       "7.344610960463973"
      ]
     },
     "execution_count": 72,
     "metadata": {},
     "output_type": "execute_result"
    }
   ],
   "source": [
    "# percent of nonalcoholics who have diabetes\n",
    "percent_of_dibetes_in_nonalcoholics = percent_(df_of_nonalcoholics, count_of_dibetes_in_nonalcoholics, count_of_nonalcoholics)\n",
    "percent_of_dibetes_in_nonalcoholics"
   ]
  },
  {
   "cell_type": "code",
   "execution_count": 73,
   "id": "2c2d01ea",
   "metadata": {},
   "outputs": [
    {
     "data": {
      "text/plain": [
       "1327"
      ]
     },
     "execution_count": 73,
     "metadata": {},
     "output_type": "execute_result"
    }
   ],
   "source": [
    "# count of alcoholics who have hipertension\n",
    "count_of_hipertension_in_alcoholics = df_of_alcoholics.query('hipertension==1').hipertension.count()\n",
    "count_of_hipertension_in_alcoholics"
   ]
  },
  {
   "cell_type": "code",
   "execution_count": 74,
   "id": "c763ea54",
   "metadata": {},
   "outputs": [
    {
     "data": {
      "text/plain": [
       "20474"
      ]
     },
     "execution_count": 74,
     "metadata": {},
     "output_type": "execute_result"
    }
   ],
   "source": [
    "# count of nonalcoholics who have hipertension\n",
    "count_of_hipertension_in_nonalcoholics = df_of_nonalcoholics.query('hipertension==1').hipertension.count()\n",
    "count_of_hipertension_in_nonalcoholics"
   ]
  },
  {
   "cell_type": "code",
   "execution_count": 75,
   "id": "e2a98abd",
   "metadata": {},
   "outputs": [
    {
     "data": {
      "text/plain": [
       "39.49404761904762"
      ]
     },
     "execution_count": 75,
     "metadata": {},
     "output_type": "execute_result"
    }
   ],
   "source": [
    "# percent of alcoholics who have hipertension\n",
    "percent_of_hipertension_in_alcoholics = percent_(df_of_alcoholics, count_of_hipertension_in_alcoholics, count_of_alcoholics)\n",
    "percent_of_hipertension_in_alcoholics"
   ]
  },
  {
   "cell_type": "code",
   "execution_count": 76,
   "id": "6960aeec",
   "metadata": {},
   "outputs": [
    {
     "data": {
      "text/plain": [
       "19.757399133430475"
      ]
     },
     "execution_count": 76,
     "metadata": {},
     "output_type": "execute_result"
    }
   ],
   "source": [
    "# percent of nonalcoholics who have hipertension\n",
    "percent_of_hipertension_in_nonalcoholics = percent_(df_of_nonalcoholics, count_of_hipertension_in_nonalcoholics, count_of_nonalcoholics)\n",
    "percent_of_hipertension_in_nonalcoholics"
   ]
  },
  {
   "cell_type": "code",
   "execution_count": 82,
   "id": "0f425c0b",
   "metadata": {},
   "outputs": [
    {
     "data": {
      "image/png": "[encoded data removed]",
      "text/plain": [
       "<Figure size 432x288 with 1 Axes>"
      ]
     },
     "metadata": {},
     "output_type": "display_data"
    }
   ],
   "source": [
    "percent_of_diabetes_and_hipertension_in_alcoholics = [percent_of_dibetes_in_alcoholics, percent_of_hipertension_in_alcoholics]\n",
    "percent_of_diabetes_and_hipertension_in_nonalcoholics = [percent_of_dibetes_in_nonalcoholics, percent_of_hipertension_in_nonalcoholics]\n",
    "index = ['10% vs 7% diabetes', '39.5% vs 20% hipertension']\n",
    "df = pd.DataFrame({'percent_of_diabetes_and_hipertension_in_alcoholics': percent_of_diabetes_and_hipertension_in_alcoholics, 'percent_of_diabetes_and_hipertension_in_nonalcoholics': percent_of_diabetes_and_hipertension_in_nonalcoholics}, index=index)\n",
    "ax = df.plot.bar(rot=-30)\n",
    "sns.move_legend(ax, \"upper left\", bbox_to_anchor=(1, 1))\n",
    "plt.ylabel('Percent %');"
   ]
  },
  {
   "cell_type": "markdown",
   "id": "a7a9043f",
   "metadata": {},
   "source": [
    "__- about 10% of alcoholics have diabetes vs 7% in nonalcoholics__"
   ]
  },
  {
   "cell_type": "markdown",
   "id": "ac6cd52d",
   "metadata": {},
   "source": [
    "__- about 39.5% of alcoholics have hipertension vs 20% in nonalcoholics__"
   ]
  },
  {
   "cell_type": "markdown",
   "id": "84a94cc9",
   "metadata": {},
   "source": [
    " ____________________________________________________________________________________________________________________________"
   ]
  },
  {
   "cell_type": "markdown",
   "id": "d04dabd5",
   "metadata": {},
   "source": [
    "# Q3:"
   ]
  },
  {
   "cell_type": "markdown",
   "id": "40e381e2",
   "metadata": {},
   "source": [
    "__3- What is the relation between Age and each of diabetes and hypertension?__"
   ]
  },
  {
   "cell_type": "code",
   "execution_count": 84,
   "id": "87c9c9bd",
   "metadata": {},
   "outputs": [],
   "source": [
    "# data_frame of diabetes\n",
    "df_of_diabetes = noshow_df.query('diabetes==1')\n",
    "# df_of_diabetes"
   ]
  },
  {
   "cell_type": "code",
   "execution_count": 85,
   "id": "6383291b",
   "metadata": {},
   "outputs": [
    {
     "data": {
      "image/png": "[encoded data removed]",
      "text/plain": [
       "<Figure size 432x288 with 1 Axes>"
      ]
     },
     "metadata": {},
     "output_type": "display_data"
    }
   ],
   "source": [
    "# histogram for column: 'age'\n",
    "fig, axes = plt.subplots(nrows=1, ncols=1)\n",
    "df_of_diabetes.hist(column='age', ax=axes)\n",
    "\n",
    "# set title and axis labels\n",
    "plt.suptitle('Age Histogram in diabetes', x=0.5, y=1, ha='center', fontsize='xx-large')\n",
    "plt.xlabel('Age (years)')\n",
    "plt.ylabel('Count of patients');"
   ]
  },
  {
   "cell_type": "markdown",
   "id": "65d73cf4",
   "metadata": {},
   "source": [
    "__- 'Left skewed', and the majority of diabetes are between 50 and 80 years old.__"
   ]
  },
  {
   "cell_type": "code",
   "execution_count": 86,
   "id": "39b6d1da",
   "metadata": {},
   "outputs": [],
   "source": [
    "# data_frame of hipertension\n",
    "df_of_hipertension = noshow_df.query('hipertension==1')\n",
    "# df_of_hipertension"
   ]
  },
  {
   "cell_type": "code",
   "execution_count": 87,
   "id": "44b92a72",
   "metadata": {},
   "outputs": [
    {
     "data": {
      "image/png": "[encoded data removed]",
      "text/plain": [
       "<Figure size 432x288 with 1 Axes>"
      ]
     },
     "metadata": {},
     "output_type": "display_data"
    }
   ],
   "source": [
    "# histogram for column: 'age'\n",
    "fig, axes = plt.subplots(nrows=1, ncols=1)\n",
    "df_of_hipertension.hist(column='age', ax=axes)\n",
    "\n",
    "# set title and axis labels\n",
    "plt.suptitle('Age Histogram in hipertension', x=0.5, y=1, ha='center', fontsize='xx-large')\n",
    "plt.xlabel('Age (years)')\n",
    "plt.ylabel('Count of patients');"
   ]
  },
  {
   "cell_type": "markdown",
   "id": "311b0166",
   "metadata": {},
   "source": [
    "__- 'Normal distributed', and the majority of patients have hypertension are between 40 and 80 years old.__"
   ]
  },
  {
   "cell_type": "markdown",
   "id": "41060501",
   "metadata": {},
   "source": [
    " ____________________________________________________________________________________________________________________________"
   ]
  },
  {
   "cell_type": "markdown",
   "id": "18907183",
   "metadata": {},
   "source": [
    "# Q4:"
   ]
  },
  {
   "cell_type": "markdown",
   "id": "ec395700",
   "metadata": {},
   "source": [
    "__4- Are there young alcoholics (under 18)?__"
   ]
  },
  {
   "cell_type": "code",
   "execution_count": 234,
   "id": "793202ae",
   "metadata": {},
   "outputs": [],
   "source": [
    "# data_frame of alcoholics\n",
    "df_of_alcoholics = noshow_df.query('alcoholism==1')\n",
    "# df_of_alcoholics"
   ]
  },
  {
   "cell_type": "code",
   "execution_count": 166,
   "id": "391f6b15",
   "metadata": {},
   "outputs": [
    {
     "data": {
      "text/plain": [
       "3360"
      ]
     },
     "execution_count": 166,
     "metadata": {},
     "output_type": "execute_result"
    }
   ],
   "source": [
    "# count of alcoholics\n",
    "count_of_alcoholics = noshow_df.query('alcoholism==1').alcoholism.count()\n",
    "count_of_alcoholics"
   ]
  },
  {
   "cell_type": "code",
   "execution_count": 246,
   "id": "8ca4cae4",
   "metadata": {},
   "outputs": [
    {
     "data": {
      "text/plain": [
       "28"
      ]
     },
     "execution_count": 246,
     "metadata": {},
     "output_type": "execute_result"
    }
   ],
   "source": [
    "# count of under_18 in alcoholics\n",
    "count_of_under_18_in_alcoholics = df_of_alcoholics.query('age<=18').age.count()\n",
    "count_of_under_18_in_alcoholics"
   ]
  },
  {
   "cell_type": "code",
   "execution_count": 247,
   "id": "eaf53f5a",
   "metadata": {},
   "outputs": [
    {
     "data": {
      "text/plain": [
       "0.8333333333333334"
      ]
     },
     "execution_count": 247,
     "metadata": {},
     "output_type": "execute_result"
    }
   ],
   "source": [
    "# percent of under_18 in alcoholics\n",
    "percent_of_under_18_in_alcoholics = percent_(df_of_alcoholics, count_of_under_18_in_alcoholics, count_of_alcoholics)\n",
    "percent_of_under_18_in_alcoholics"
   ]
  },
  {
   "cell_type": "code",
   "execution_count": 90,
   "id": "50286183",
   "metadata": {},
   "outputs": [
    {
     "data": {
      "image/png": "[encoded data removed]",
      "text/plain": [
       "<Figure size 432x288 with 1 Axes>"
      ]
     },
     "metadata": {},
     "output_type": "display_data"
    }
   ],
   "source": [
    "# histogram for column: 'age'\n",
    "fig, axes = plt.subplots(nrows=1, ncols=1)\n",
    "df_of_alcoholics.hist(column='age', ax=axes)\n",
    "\n",
    "# set title and axis labels\n",
    "plt.suptitle('Age Histogram for alcoholism', x=0.5, y=1, ha='center', fontsize='xx-large')\n",
    "plt.xlabel('Age (years)')\n",
    "plt.ylabel('Count of alcoholics');"
   ]
  },
  {
   "cell_type": "markdown",
   "id": "85751ad8",
   "metadata": {},
   "source": [
    "__- less than 1% of alcoholics are under 20.__"
   ]
  },
  {
   "cell_type": "markdown",
   "id": "0b0b34dd",
   "metadata": {},
   "source": [
    " ____________________________________________________________________________________________________________________________"
   ]
  },
  {
   "cell_type": "markdown",
   "id": "e3d1d6d3",
   "metadata": {},
   "source": [
    "# Q5:"
   ]
  },
  {
   "cell_type": "markdown",
   "id": "c6db861b",
   "metadata": {},
   "source": [
    "__5- What is the percentage of patients who showed up to their appointments?__"
   ]
  },
  {
   "cell_type": "code",
   "execution_count": 93,
   "id": "d7384167",
   "metadata": {},
   "outputs": [
    {
     "data": {
      "image/png": "[encoded data removed]",
      "text/plain": [
       "<Figure size 504x504 with 1 Axes>"
      ]
     },
     "metadata": {},
     "output_type": "display_data"
    }
   ],
   "source": [
    "# percentage of patients who show up for their appointments\n",
    "noshow_df.no_show.value_counts().plot(kind='pie', autopct='%1.0f%%', textprops={\"fontsize\":15}, figsize= (7,7),  labels=['showed up', 'did not show up'])\n",
    "plt.title(\"Percentage of patients show up for their appointments\", fontsize = 21);"
   ]
  },
  {
   "cell_type": "markdown",
   "id": "74e86e2a",
   "metadata": {},
   "source": [
    "__- 80% of the patients showed up to their appointments.__"
   ]
  },
  {
   "cell_type": "markdown",
   "id": "eac55665",
   "metadata": {},
   "source": [
    " ____________________________________________________________________________________________________________________________"
   ]
  },
  {
   "cell_type": "markdown",
   "id": "2b7e3082",
   "metadata": {},
   "source": [
    "# Q6:"
   ]
  },
  {
   "cell_type": "markdown",
   "id": "b068ef03",
   "metadata": {},
   "source": [
    "__6- Did the patients who showed up to their appointments receive SMS?__"
   ]
  },
  {
   "cell_type": "code",
   "execution_count": 102,
   "id": "290faca2",
   "metadata": {},
   "outputs": [],
   "source": [
    "# data_frame of the patients who showed up to their appointments\n",
    "df_of_show_ups = noshow_df.query('no_show==\"No\"')"
   ]
  },
  {
   "cell_type": "code",
   "execution_count": 103,
   "id": "d8c3e2d7",
   "metadata": {},
   "outputs": [
    {
     "data": {
      "text/plain": [
       "85307"
      ]
     },
     "execution_count": 103,
     "metadata": {},
     "output_type": "execute_result"
    }
   ],
   "source": [
    "# count of the patients who showed up to their appointments\n",
    "count_of_show_ups = noshow_df.query('no_show==\"No\"').no_show.count()\n",
    "count_of_show_ups"
   ]
  },
  {
   "cell_type": "code",
   "execution_count": 104,
   "id": "9f1cc6eb",
   "metadata": {},
   "outputs": [],
   "source": [
    "# data_frame of the patients who received SMS and showed up to their appointments\n",
    "df_of_show_ups_received_sms = df_of_show_ups.query('sms_received==1')"
   ]
  },
  {
   "cell_type": "code",
   "execution_count": 105,
   "id": "40885d2e",
   "metadata": {},
   "outputs": [
    {
     "data": {
      "text/plain": [
       "25017"
      ]
     },
     "execution_count": 105,
     "metadata": {},
     "output_type": "execute_result"
    }
   ],
   "source": [
    "# count of the patients who received SMS and showed up to their appointments\n",
    "count_of_show_ups_received_sms = df_of_show_ups.query('sms_received==1').sms_received.count()\n",
    "count_of_show_ups_received_sms"
   ]
  },
  {
   "cell_type": "code",
   "execution_count": 106,
   "id": "bf77a412",
   "metadata": {},
   "outputs": [
    {
     "data": {
      "text/plain": [
       "29.325846647989028"
      ]
     },
     "execution_count": 106,
     "metadata": {},
     "output_type": "execute_result"
    }
   ],
   "source": [
    "# percentage of the patients who received SMS and showed up to their appointments\n",
    "percent_of_show_ups_received_sms = percent_(df_of_show_ups, count_of_show_ups_received_sms, count_of_show_ups)\n",
    "percent_of_show_ups_received_sms"
   ]
  },
  {
   "cell_type": "code",
   "execution_count": 107,
   "id": "e6a6195c",
   "metadata": {},
   "outputs": [
    {
     "data": {
      "image/png": "[encoded data removed]",
      "text/plain": [
       "<Figure size 504x504 with 1 Axes>"
      ]
     },
     "metadata": {},
     "output_type": "display_data"
    }
   ],
   "source": [
    "# percentage of patients who received sms and showed up for their appointments\n",
    "\n",
    "df_of_show_ups['sms_received'].value_counts().plot(kind='pie', autopct='%1.0f%%', textprops={\"fontsize\":15}, figsize= (7,7), labels=['did not receive SMS', 'received SMS'])\n",
    "\n",
    "plt.title(\"Percentage of patients who received sms and showed up for their appointments\", fontsize = 21);\n"
   ]
  },
  {
   "cell_type": "markdown",
   "id": "075468f4",
   "metadata": {},
   "source": [
    "__- about 29% of the patients who showed up to their appointments received SMS.__"
   ]
  },
  {
   "cell_type": "markdown",
   "id": "2db449fb",
   "metadata": {},
   "source": [
    " ____________________________________________________________________________________________________________________________"
   ]
  },
  {
   "cell_type": "markdown",
   "id": "a35d2bfd",
   "metadata": {},
   "source": [
    "# Conclusions:"
   ]
  },
  {
   "cell_type": "markdown",
   "id": "86482db8",
   "metadata": {},
   "source": [
    "__- percent of females is about twice the percent of male patients (66% vs 34%).__"
   ]
  },
  {
   "cell_type": "markdown",
   "id": "1fdb5a94",
   "metadata": {},
   "source": [
    "__- the majority of patients are under 70 years old.__"
   ]
  },
  {
   "cell_type": "markdown",
   "id": "4ed2eb5e",
   "metadata": {},
   "source": [
    "__- alcohol increases the proportions of diabetes and hipertension (10% vs 7% diabetes and 39.5% vs 20% hipertension).__"
   ]
  },
  {
   "cell_type": "markdown",
   "id": "87145c7d",
   "metadata": {},
   "source": [
    "__- most of the patients who have diabetes are between 50 and 80 years old.__"
   ]
  },
  {
   "cell_type": "markdown",
   "id": "f12e6e54",
   "metadata": {},
   "source": [
    "__- small percent (less than 1%) of alcoholics are under 18 years old (good).__"
   ]
  },
  {
   "cell_type": "markdown",
   "id": "86a74368",
   "metadata": {},
   "source": [
    "__- 80% of the patients showed up to their appointments, this is good.__"
   ]
  },
  {
   "cell_type": "markdown",
   "id": "a114a633",
   "metadata": {},
   "source": [
    "__- 29% of patients who showed up to their appointments received SMS, SMS does not help.__"
   ]
  },
  {
   "cell_type": "markdown",
   "id": "ff5725a5",
   "metadata": {},
   "source": [
    " ____________________________________________________________________________________________________________________________"
   ]
  },
  {
   "cell_type": "markdown",
   "id": "2ab2058a",
   "metadata": {},
   "source": [
    "# Limitations:"
   ]
  },
  {
   "cell_type": "markdown",
   "id": "48bc27cb",
   "metadata": {},
   "source": [
    "__- Features like job, education, and family may change the result.__"
   ]
  },
  {
   "cell_type": "markdown",
   "id": "34dafc48",
   "metadata": {},
   "source": [
    "__- 0 or less Ages are fake and that leads to dropping these records.__"
   ]
  },
  {
   "cell_type": "markdown",
   "id": "9d5320cf",
   "metadata": {},
   "source": [
    "__- ways like mobile calls to the patient or his/her relatives instead of SMS may help.__"
   ]
  },
  {
   "cell_type": "markdown",
   "id": "dcc5fb2e",
   "metadata": {},
   "source": [
    "__- A discount in the visita may encourages more patients to show up to their appointments.__"
   ]
  }
 ],
 "metadata": {
  "kernelspec": {
   "display_name": "Python 3",
   "language": "python",
   "name": "python3"
  },
  "language_info": {
   "codemirror_mode": {
    "name": "ipython",
    "version": 3
   },
   "file_extension": ".py",
   "mimetype": "text/x-python",
   "name": "python",
   "nbconvert_exporter": "python",
   "pygments_lexer": "ipython3",
   "version": "3.6.13"
  }
 },
 "nbformat": 4,
 "nbformat_minor": 5
}
